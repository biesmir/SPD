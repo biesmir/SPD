{
 "cells": [
  {
   "cell_type": "markdown",
   "metadata": {
    "pycharm": {}
   },
   "source": [
    "# Sprawozdanie 4 - Algorytm Schrage\n"
   ]
  },
  {
   "cell_type": "markdown",
   "metadata": {},
   "source": [
    "Sprawdzenie poprawności działania algorytmu Schrage"
   ]
  },
  {
   "cell_type": "code",
   "execution_count": 1,
   "metadata": {},
   "outputs": [
    {
     "name": "stdout",
     "output_type": "stream",
     "text": [
      "21\n",
      "Otrymano wynik: 1502\n",
      "Prawidłowy wynik dla instancji in50 to: 1513\n",
      "30\n",
      "Otrymano wynik: 3805\n",
      "Prawidłowy wynik dla instancji in100 to: 3076\n",
      "30\n",
      "Otrymano wynik: 5263\n",
      "Prawidłowy wynik dla instancji in200: 6416\n"
     ]
    }
   ],
   "source": [
    "from rpq import *\n",
    "schdl1 = Schedule(\"./dane rpq/in50.txt\")\n",
    "schdl2 = Schedule(\"./dane rpq/in100.txt\")\n",
    "schdl3 = Schedule(\"./dane rpq/in200.txt\")\n",
    "\n",
    "def schrage(schdl):\n",
    "    sig = []\n",
    "    nn = schdl.__copy__()\n",
    "    ng = Schedule(job_list=[])\n",
    "    j = nn.job_list[0]\n",
    "    t = nn.job_list[0].r\n",
    "    for job in nn.job_list:\n",
    "        if job.r < t:\n",
    "            t = job.r\n",
    "    print(t)\n",
    "\n",
    "    while (ng.job_list != [] or nn.job_list != []):\n",
    "        while nn.job_list != []:\n",
    "            temp = nn.job_list[0]\n",
    "            for job in nn.job_list:\n",
    "                if job.r <= t:\n",
    "                    temp = job\n",
    "            if temp.r <= t:\n",
    "\n",
    "                j = temp\n",
    "                ng.job_list.append(j)\n",
    "                nn.job_list.remove(j)\n",
    "            else:\n",
    "                break\n",
    "\n",
    "        if ng.job_list == []:\n",
    "            t = nn.job_list[0].r\n",
    "            for job in ng.job_list:\n",
    "                if job.r < t:\n",
    "                    t = job.r\n",
    "        else:\n",
    "            j = ng.job_list[0]\n",
    "            for job in ng.job_list:\n",
    "                if job.q > j.q:\n",
    "                    j = job\n",
    "\n",
    "            ng.job_list.remove(j)\n",
    "            sig.append(j)\n",
    "            t += j.p\n",
    "    return Schedule(job_list=sig)\n",
    "\n",
    "\n",
    "schdl1 = schrage(schdl1)\n",
    "print(\"Otrymano wynik: \"+str(schdl1.cmax()))\n",
    "print(\"Prawidłowy wynik dla instancji in50 to: 1513\")\n",
    "    \n",
    "schdl2 = schrage(schdl2)\n",
    "print(\"Otrymano wynik: \"+str(schdl2.cmax()))\n",
    "print(\"Prawidłowy wynik dla instancji in100 to: 3076\")\n",
    "\n",
    "schdl3 = schrage(schdl3)\n",
    "print(\"Otrymano wynik: \"+str(schdl3.cmax()))\n",
    "print(\"Prawidłowy wynik dla instancji in200: 6416\")"
   ]
  },
  {
   "cell_type": "code",
   "execution_count": null,
   "metadata": {},
   "outputs": [],
   "source": []
  },
  {
   "cell_type": "markdown",
   "metadata": {
    "pycharm": {}
   },
   "source": [
    "# Porównanie wszystkich algorytmów\n"
   ]
  },
  {
   "cell_type": "code",
   "execution_count": null,
   "metadata": {
    "pycharm": {}
   },
   "outputs": [],
   "source": [
    "from random import seed, randint\n",
    "import matplotlib.pyplot as plt\n",
    "import pylab\n",
    "import time\n",
    "from schedule import Schedule\n",
    "\n",
    "%matplotlib inline\n",
    "seed(370773)\n",
    "\n",
    "schdl = Schedule()\n",
    "basic_time = []\n",
    "opt1_time = []\n",
    "opt1_int_time = []\n",
    "opt2_time = []\n",
    "opt2_int_time = []\n",
    "\n",
    "# rozmiar wykresów\n",
    "plot_width, plot_height = 16, 10\n",
    "\n",
    "plt.rcParams['figure.figsize'] = [plot_width, plot_height]\n",
    "tabular1, instances = \"instancja\", []\n",
    "\n",
    "# tutaj zmienia się zakres\n",
    "n = [i**3 for i in range(2, 100)]\n",
    "\n",
    "for i in n:\n",
    "    schdl.make_random(i, 3)\n",
    "    \n",
    "    start = time.time()\n",
    "    schdl.cmax()\n",
    "    end = time.time()\n",
    "    basic_time.append(end-start)\n",
    "\n",
    "    schdl.make_random(i, 3)\n",
    "\n",
    "    start = time.time()\n",
    "    schdl.cmax()\n",
    "    end = time.time()\n",
    "    opt1_time.append(end-start)\n",
    "\n",
    "    start = time.time()\n",
    "    schdl.cmax()\n",
    "    end = time.time()\n",
    "    opt1_int_time.append(end-start)\n",
    "    \n",
    "    start = time.time()\n",
    "    schdl.cmax()\n",
    "    end = time.time()\n",
    "    opt2_time.append(end-start)\n",
    "\n",
    "    start = time.time()\n",
    "    schdl.cmax()\n",
    "    end = time.time()\n",
    "    opt2_int_time.append(end-start)\n",
    "    \n",
    "fig = plt.figure()\n",
    "ax = fig.add_subplot(2, 1, 1)\n",
    "\n",
    "line, = ax.plot(n, basic_time, color='red', lw=2, label=\"bez modyfikacji\")\n",
    "line, = ax.plot(n, opt1_time, color='blue', lw=2, label=\"pierwsza optymalizaja\")\n",
    "line, = ax.plot(n, opt1_int_time, color='green', lw=2, label=\"pierwsza optymalizacja z przerwaniami\")\n",
    "line, = ax.plot(n, opt2_time, color='black', lw=2, label=\"druga optymalizaja\")\n",
    "line, = ax.plot(n, opt2_int_time, color='cyan', lw=2, label=\"druga optymalizacja z przerwaniami\")\n",
    "\n",
    "ax.set_yscale('log')\n",
    "ax.set_xscale('log')\n",
    "plt.title(\"Złożnoność obliczeniowa\")\n",
    "plt.xlabel(\"ilość zadań\")\n",
    "plt.ylabel(\"czas obliczeń\")\n",
    "plt.legend()\n",
    "pylab.show()\n"
   ]
  },
  {
   "cell_type": "markdown",
   "metadata": {},
   "source": [
    "Tutaj oczywiście nic nie ma jeszcze, mierzymy czas cmaxa tylko"
   ]
  },
  {
   "cell_type": "code",
   "execution_count": null,
   "metadata": {},
   "outputs": [],
   "source": []
  }
 ],
 "metadata": {
  "kernelspec": {
   "display_name": "Python 3",
   "language": "python",
   "name": "python3"
  },
  "language_info": {
   "codemirror_mode": {
    "name": "ipython",
    "version": 3
   },
   "file_extension": ".py",
   "mimetype": "text/x-python",
   "name": "python",
   "nbconvert_exporter": "python",
   "pygments_lexer": "ipython3",
   "version": "3.7.3"
  }
 },
 "nbformat": 4,
 "nbformat_minor": 2
}
