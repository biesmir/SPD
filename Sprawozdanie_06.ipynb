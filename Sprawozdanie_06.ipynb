{
 "cells": [
  {
   "cell_type": "markdown",
   "metadata": {},
   "source": [
    "# Sprawozdanie 6"
   ]
  },
  {
   "cell_type": "code",
   "execution_count": null,
   "metadata": {},
   "outputs": [],
   "source": []
  },
  {
   "cell_type": "markdown",
   "metadata": {},
   "source": [
    "## Constrain Programing\n"
   ]
  },
  {
   "cell_type": "code",
   "execution_count": 5,
   "metadata": {},
   "outputs": [
    {
     "ename": "NameError",
     "evalue": "name 'cp_model' is not defined",
     "output_type": "error",
     "traceback": [
      "\u001b[0;31m---------------------------------------------------------------------------\u001b[0m",
      "\u001b[0;31mNameError\u001b[0m                                 Traceback (most recent call last)",
      "\u001b[0;32m<ipython-input-5-ea5e026f6cf0>\u001b[0m in \u001b[0;36m<module>\u001b[0;34m\u001b[0m\n\u001b[1;32m     39\u001b[0m \u001b[0mfile\u001b[0m \u001b[0;34m=\u001b[0m \u001b[0;34m\"./dane rpq/data000.txt\"\u001b[0m\u001b[0;34m\u001b[0m\u001b[0;34m\u001b[0m\u001b[0m\n\u001b[1;32m     40\u001b[0m \u001b[0mjobs\u001b[0m \u001b[0;34m=\u001b[0m \u001b[0mGetRPQsFromFile\u001b[0m\u001b[0;34m(\u001b[0m\u001b[0mfile\u001b[0m\u001b[0;34m)\u001b[0m\u001b[0;34m\u001b[0m\u001b[0;34m\u001b[0m\u001b[0m\n\u001b[0;32m---> 41\u001b[0;31m \u001b[0mcp\u001b[0m\u001b[0;34m(\u001b[0m\u001b[0mjobs\u001b[0m\u001b[0;34m,\u001b[0m \u001b[0mfile\u001b[0m\u001b[0;34m)\u001b[0m\u001b[0;34m\u001b[0m\u001b[0;34m\u001b[0m\u001b[0m\n\u001b[0m\u001b[1;32m     42\u001b[0m \u001b[0;34m\u001b[0m\u001b[0m\n\u001b[1;32m     43\u001b[0m \u001b[0;34m\u001b[0m\u001b[0m\n",
      "\u001b[0;32m<ipython-input-5-ea5e026f6cf0>\u001b[0m in \u001b[0;36mcp\u001b[0;34m(jobs, instanceName)\u001b[0m\n\u001b[1;32m      2\u001b[0m \u001b[0;34m\u001b[0m\u001b[0m\n\u001b[1;32m      3\u001b[0m \u001b[0;32mdef\u001b[0m \u001b[0mcp\u001b[0m\u001b[0;34m(\u001b[0m\u001b[0mjobs\u001b[0m\u001b[0;34m,\u001b[0m \u001b[0minstanceName\u001b[0m\u001b[0;34m)\u001b[0m\u001b[0;34m:\u001b[0m\u001b[0;34m\u001b[0m\u001b[0;34m\u001b[0m\u001b[0m\n\u001b[0;32m----> 4\u001b[0;31m     \u001b[0mmodel\u001b[0m \u001b[0;34m=\u001b[0m \u001b[0mcp_model\u001b[0m\u001b[0;34m.\u001b[0m\u001b[0mCpModel\u001b[0m\u001b[0;34m(\u001b[0m\u001b[0;34m)\u001b[0m\u001b[0;34m\u001b[0m\u001b[0;34m\u001b[0m\u001b[0m\n\u001b[0m\u001b[1;32m      5\u001b[0m     \u001b[0msolver\u001b[0m \u001b[0;34m=\u001b[0m \u001b[0mcp_model\u001b[0m\u001b[0;34m.\u001b[0m\u001b[0mCpSolver\u001b[0m\u001b[0;34m(\u001b[0m\u001b[0;34m)\u001b[0m\u001b[0;34m\u001b[0m\u001b[0;34m\u001b[0m\u001b[0m\n\u001b[1;32m      6\u001b[0m \u001b[0;34m\u001b[0m\u001b[0m\n",
      "\u001b[0;31mNameError\u001b[0m: name 'cp_model' is not defined"
     ]
    }
   ],
   "source": [
    "from or_tools_milp_cp import GetRPQsFromFile\n",
    "\n",
    "def cp(jobs, instanceName):\n",
    "    model = cp_model.CpModel()\n",
    "    solver = cp_model.CpSolver()\n",
    "\n",
    "    # variableMaxValue = sum(job.R+job.P+job.Q for job in jobs)\n",
    "    # r = model.NewIntVar(0, variableMaxValue, 'r')\n",
    "    # p = model.NewIntVar(0, variableMaxValue, 'p')\n",
    "    # q = model.NewIntVar(0, variableMaxValue, 'q')\n",
    "    # model.Add()\n",
    "    variableMaxValue = sum(job.R+job.P+job.Q for job in jobs)\n",
    "\n",
    "    alfasMatrix = {}\n",
    "    for i in range(len(jobs)):\n",
    "        for j in range(len(jobs)):\n",
    "            alfasMatrix[i, j] = model.NewIntVar(0, 1, \"alfa\"+str(i) + \"_\" + str(j))\n",
    "\n",
    "    starts = [(model.NewIntVar(0, variableMaxValue, \"starts\"+str(i))) for i in range(len(jobs))]\n",
    "    cmax = model.NewIntVar(0, variableMaxValue, \"cmax\")\n",
    "\n",
    "    for job, start in zip(jobs, starts):\n",
    "        model.Add(start >= job.R)\n",
    "        model.Add(cmax >= start + job.P + job.Q)\n",
    "\n",
    "    for i in range(len(jobs)):\n",
    "        for j in range(i+1, len(jobs)):\n",
    "            model.Add(starts[i]+jobs[i].P <= starts[j] + alfasMatrix [i,j]*variableMaxValue)\n",
    "            model.Add(starts[j]+jobs[j].P <= starts[i] + alfasMatrix[j,i] *variableMaxValue)\n",
    "            model.Add(alfasMatrix[i,j] + alfasMatrix[j,i] == 1)\n",
    "\n",
    "    model.Minimize(cmax)\n",
    "    status = solver.Solve(model)\n",
    "    if status != pywraplp.Solver.OPTIMAL:\n",
    "        print(\"Not optimal!\")\n",
    "\n",
    "    print(solver.ObjectiveValue())\n",
    "\n",
    "file = \"./dane rpq/data000.txt\"\n",
    "jobs = GetRPQsFromFile(file)\n",
    "cp(jobs, file)\n",
    "\n",
    "    "
   ]
  },
  {
   "cell_type": "code",
   "execution_count": null,
   "metadata": {},
   "outputs": [],
   "source": []
  }
 ],
 "metadata": {
  "kernelspec": {
   "display_name": "Python 3",
   "language": "python",
   "name": "python3"
  },
  "language_info": {
   "codemirror_mode": {
    "name": "ipython",
    "version": 3
   },
   "file_extension": ".py",
   "mimetype": "text/x-python",
   "name": "python",
   "nbconvert_exporter": "python",
   "pygments_lexer": "ipython3",
   "version": "3.7.3"
  }
 },
 "nbformat": 4,
 "nbformat_minor": 2
}
