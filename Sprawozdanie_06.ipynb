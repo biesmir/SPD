{
 "cells": [
  {
   "cell_type": "markdown",
   "metadata": {},
   "source": [
    "# Sprawozdanie 6"
   ]
  },
  {
   "cell_type": "markdown",
   "metadata": {},
   "source": [
    "## Mixed-integer linear programing"
   ]
  },
  {
   "cell_type": "code",
   "execution_count": 1,
   "metadata": {},
   "outputs": [
    {
     "name": "stdout",
     "output_type": "stream",
     "text": [
      "./dane rpq/data000.txt Cmax: 228.0\n",
      "[(0, 0.0), (2, 27.0), (1, 140.0), (3, 147.0)]\n"
     ]
    }
   ],
   "source": [
    "from __future__ import print_function\n",
    "from ortools.linear_solver import pywraplp\n",
    "from pathlib import Path\n",
    "from ortools.sat.python import cp_model\n",
    "\n",
    "\n",
    "class RPQ():\n",
    "    def __init__(self, r, p, q):\n",
    "        self.R = r\n",
    "        self.P = p\n",
    "        self.Q = q\n",
    "\n",
    "\n",
    "def Milp(jobs, instanceName):\n",
    "    variableMaxValue = sum(job.R+job.P+job.Q for job in jobs)\n",
    "\n",
    "    solver = pywraplp.Solver('simple_mip_program',\n",
    "            pywraplp.Solver.CBC_MIXED_INTEGER_PROGRAMMING)\n",
    "\n",
    "    alfasMatrix = {}\n",
    "    for i in range(len(jobs)):\n",
    "        for j in range(len(jobs)):\n",
    "            alfasMatrix[i, j] = solver.IntVar(0, 1, \"alfa\"+str(i) + \"_\" + str(j))\n",
    "\n",
    "    starts = [(solver.IntVar(0, variableMaxValue, \"starts\"+str(i))) for i in range(len(jobs))]\n",
    "    cmax = solver.IntVar(0, variableMaxValue, \"cmax\")\n",
    "\n",
    "    for job, start in zip(jobs, starts):\n",
    "        solver.Add(start >= job.R)\n",
    "        solver.Add(cmax >= start + job.P + job.Q)\n",
    "\n",
    "    for i in range(len(jobs)):\n",
    "        for j in range(i+1, len(jobs)):\n",
    "            solver.Add(starts[i]+jobs[i].P <= starts[j] + alfasMatrix [i,j]*variableMaxValue)\n",
    "            solver.Add(starts[j]+jobs[j].P <= starts[i] + alfasMatrix[j,i] *variableMaxValue)\n",
    "            solver.Add(alfasMatrix[i,j] + alfasMatrix[j,i] == 1)\n",
    "\n",
    "    solver.Minimize(cmax)\n",
    "    status = solver.Solve()\n",
    "    if status != pywraplp.Solver.OPTIMAL:\n",
    "        print(\"Not optimal!\")\n",
    "    print(instanceName, \"Cmax:\", solver.Objective().Value())\n",
    "    pi = [(i, starts[i].solution_value()) for i in range(len(starts))]\n",
    "\n",
    "    pi.sort(key=lambda x: x[1])\n",
    "    print(pi)\n",
    "\n",
    "\n",
    "def GetRPQsFromFile (file_path):\n",
    "\n",
    "    full_file = Path(file_path).read_text()\n",
    "    words = full_file.replace(\"\\n\", \" \").split(\" \")\n",
    "    words_cleaned = list(filter(None, words))\n",
    "    numbers = list(map(int, words_cleaned))\n",
    "\n",
    "    jobs = []\n",
    "    for i in range(numbers.pop(0)):\n",
    "        jobs.append(RPQ(numbers[0], numbers[1], numbers[2]))\n",
    "        numbers.pop(0)\n",
    "        numbers.pop(0)\n",
    "        numbers.pop(0)\n",
    "    return jobs\n",
    "\n",
    "\n",
    "files = [\"./dane rpq/data000.txt\"]\n",
    "for file in files:\n",
    "    jobs = GetRPQsFromFile(file)\n",
    "    Milp(jobs, file)\n"
   ]
  },
  {
   "cell_type": "markdown",
   "metadata": {},
   "source": [
    "## Constrain Programing\n"
   ]
  },
  {
   "cell_type": "code",
   "execution_count": 2,
   "metadata": {},
   "outputs": [
    {
     "name": "stdout",
     "output_type": "stream",
     "text": [
      "228.0\n"
     ]
    }
   ],
   "source": [
    "from or_tools_milp_cp import GetRPQsFromFile\n",
    "from ortools.sat.python import cp_model\n",
    "from job import Job\n",
    "from ortools.linear_solver import pywraplp\n",
    "\n",
    "\n",
    "def cp(jobs, instanceName):\n",
    "    model = cp_model.CpModel()\n",
    "    solver = cp_model.CpSolver()\n",
    "\n",
    "    # variableMaxValue = sum(job.R+job.P+job.Q for job in jobs)\n",
    "    # r = model.NewIntVar(0, variableMaxValue, 'r')\n",
    "    # p = model.NewIntVar(0, variableMaxValue, 'p')\n",
    "    # q = model.NewIntVar(0, variableMaxValue, 'q')\n",
    "    # model.Add()\n",
    "    variableMaxValue = sum(job.R+job.P+job.Q for job in jobs)\n",
    "\n",
    "    alfasMatrix = {}\n",
    "    for i in range(len(jobs)):\n",
    "        for j in range(len(jobs)):\n",
    "            alfasMatrix[i, j] = model.NewIntVar(0, 1, \"alfa\"+str(i) + \"_\" + str(j))\n",
    "\n",
    "    starts = [(model.NewIntVar(0, variableMaxValue, \"starts\"+str(i))) for i in range(len(jobs))]\n",
    "    cmax = model.NewIntVar(0, variableMaxValue, \"cmax\")\n",
    "\n",
    "    for job, start in zip(jobs, starts):\n",
    "        model.Add(start >= job.R)\n",
    "        model.Add(cmax >= start + job.P + job.Q)\n",
    "\n",
    "    for i in range(len(jobs)):\n",
    "        for j in range(i+1, len(jobs)):\n",
    "            model.Add(starts[i]+jobs[i].P <= starts[j] + alfasMatrix [i,j]*variableMaxValue)\n",
    "            model.Add(starts[j]+jobs[j].P <= starts[i] + alfasMatrix[j,i] *variableMaxValue)\n",
    "            model.Add(alfasMatrix[i,j] + alfasMatrix[j,i] == 1)\n",
    "\n",
    "    model.Minimize(cmax)\n",
    "    status = solver.Solve(model)\n",
    "\n",
    "    print(solver.ObjectiveValue())\n",
    "\n",
    "file = \"./dane rpq/data000.txt\"\n",
    "jobs = GetRPQsFromFile(file)\n",
    "cp(jobs, file)"
   ]
  },
  {
   "cell_type": "markdown",
   "metadata": {},
   "source": [
    "## CP dla problemu PD"
   ]
  },
  {
   "cell_type": "code",
   "execution_count": 8,
   "metadata": {},
   "outputs": [
    {
     "name": "stdout",
     "output_type": "stream",
     "text": [
      "./dane pwd/data11.txt Suma CP: 799.0\n",
      "./dane pwd/data12.txt Suma CP: 742.0\n",
      "./dane pwd/data13.txt Suma CP: 688.0\n",
      " uzyskano: 799.0 oczekiwane: 799\n",
      " uzyskano: 742.0 oczekiwane: 742\n",
      " uzyskano: 688.0 oczekiwane: 688\n"
     ]
    }
   ],
   "source": [
    "from __future__ import print_function\n",
    "from ortools.linear_solver import pywraplp\n",
    "from pathlib import Path\n",
    "from ortools.sat.python import cp_model\n",
    "from ortools.constraint_solver import pywrapcp\n",
    "from ortools.constraint_solver import solver_parameters_pb2\n",
    "\n",
    "\n",
    "class PWD():\n",
    "    def __init__(self, p, w, d):\n",
    "        self.P = p\n",
    "        self.W = w\n",
    "        self.D = d\n",
    "\n",
    "\n",
    "def CP_WT(jobs, instanceName):\n",
    "    model = cp_model.CpModel()\n",
    "    solver = cp_model.CpSolver()\n",
    "    sumaP = [job.P for job in jobs]\n",
    "    variableMaxValue = sum(job.W*(sum(sumaP)-job.D) if sum(sumaP)-job.D > 0 else 0 for job in jobs)\n",
    "\n",
    "    starts = [(model.NewIntVar(0, variableMaxValue, \"starts\"+str(i))) for i in range(len(jobs))]\n",
    "    penalty = [(model.NewIntVar(0, variableMaxValue, \"kara\" + str(i))) for i in range(len(jobs))]\n",
    "\n",
    "    alfasMatrix = {}\n",
    "    for i in range(len(jobs)):\n",
    "        for j in range(len(jobs)):\n",
    "            alfasMatrix[i, j] = model.NewIntVar(0, 1, \"alfa\"+str(i) + \"_\" + str(j))\n",
    "\n",
    "    for i in range(len(jobs)):\n",
    "        for j in range(i+1, len(jobs)):\n",
    "            model.Add(starts[i]+jobs[i].P <= starts[j] + alfasMatrix [i,j]*variableMaxValue)\n",
    "            model.Add(starts[j]+jobs[j].P <= starts[i] + alfasMatrix[j,i] *variableMaxValue)\n",
    "            model.Add(alfasMatrix[i,j] + alfasMatrix[j,i] == 1)\n",
    "        model.Add(penalty[i] >= (starts[i]+jobs[i].P-jobs[i].D)*jobs[i].W)\n",
    "\n",
    "    model.Minimize(sum(penalty))\n",
    "    status = solver.Solve(model)\n",
    "    pi = [(i, start.GetVarValueMap()) for start in starts]\n",
    "    print(instanceName, \"Suma CP:\", solver.ObjectiveValue())\n",
    "    return solver.ObjectiveValue()\n",
    "    \n",
    "\n",
    "def GetPWDsFromFile (file_path):\n",
    "\n",
    "    full_file = Path(file_path).read_text()\n",
    "    words = full_file.replace(\"\\n\", \" \").split(\" \")\n",
    "    words_cleaned = list(filter(None, words))\n",
    "    numbers = list(map(int, words_cleaned))\n",
    "\n",
    "    jobs = []\n",
    "    for i in range(numbers.pop(0)):\n",
    "        jobs.append(PWD(numbers[0], numbers[1], numbers[2]))\n",
    "        numbers.pop(0)\n",
    "        numbers.pop(0)\n",
    "        numbers.pop(0)\n",
    "    return jobs\n",
    "\n",
    "res = []\n",
    "exp = [799, 742, 688]\n",
    "files = [\"./dane pwd/data11.txt\", \"./dane pwd/data12.txt\", \"./dane pwd/data13.txt\"]\n",
    "for file in files:\n",
    "    jobs = GetPWDsFromFile(file)\n",
    "    res.append(CP_WT(jobs, file))\n",
    "\n",
    "for rslt, dt  in zip(res, exp):\n",
    "    print(\" uzyskano: \"+str(rslt)+\" oczekiwane: \"+str(dt))"
   ]
  },
  {
   "cell_type": "markdown",
   "metadata": {},
   "source": [
    "## CP dla problemu przepływowego\n"
   ]
  },
  {
   "cell_type": "code",
   "execution_count": 3,
   "metadata": {},
   "outputs": [
    {
     "name": "stdout",
     "output_type": "stream",
     "text": [
      "[(0, (defaultdict(<class 'int'>, {starts0machine0(0..59): 1}), 0)), (1, (defaultdict(<class 'int'>, {starts0machine1(0..59): 1}), 0)), (2, (defaultdict(<class 'int'>, {starts0machine2(0..59): 1}), 0)), (3, (defaultdict(<class 'int'>, {starts0machine3(0..59): 1}), 0))]\n",
      "18.0\n"
     ]
    }
   ],
   "source": [
    "from ortools.sat.python import cp_model\n",
    "from job import Job\n",
    "\n",
    "\n",
    "def load_from_file(file_name):\n",
    "    joblist = []\n",
    "    with open(file_name) as file:\n",
    "        line = file.readline()\n",
    "        line = file.readline()\n",
    "        while \"data\" not in line:\n",
    "            pass\n",
    "            line = file.readline()\n",
    "        line = file.readline()\n",
    "        line = list(map(int, line.split()))\n",
    "\n",
    "        for i, line in enumerate(file.readlines()):\n",
    "            if line != '\\n':\n",
    "                joblist.append(Job(list(map(int, line.split())), index=i, name=\"zadanie \" + str(i + 1)))\n",
    "    return joblist\n",
    "\n",
    "\n",
    "def cp_js(jobs):\n",
    "    model = cp_model.CpModel()\n",
    "    solver = cp_model.CpSolver()\n",
    "\n",
    "    variableMaxValue = sum(job.time[i] for i in range(len(jobs[0].time)) for job in jobs )\n",
    "\n",
    "    alfasMatrix = {}\n",
    "    for i in range(len(jobs)):\n",
    "        for j in range(len(jobs)):\n",
    "            alfasMatrix[i, j] = model.NewIntVar(0, 1, \"alfa\"+str(i) + \"_\" + str(j))\n",
    "\n",
    "    starts = [[(model.NewIntVar(0, variableMaxValue, \"starts\"+str(i)+\"machine\"+str(j))) for i in range(len(jobs[0].time))] for j in range(len(jobs))]\n",
    "    cmax = model.NewIntVar(0, variableMaxValue, \"cmax\")\n",
    "\n",
    "    for i in range(len(jobs)):\n",
    "        for j in range(i+1, len(jobs)):\n",
    "            for k in range(len(jobs[0].time)):\n",
    "                model.Add(starts[i][k]+jobs[i].time[k] <= starts[j][k] + alfasMatrix [i,j]*variableMaxValue)\n",
    "                model.Add(starts[j][k]+jobs[j].time[k] <= starts[i][k] + alfasMatrix[j,i] *variableMaxValue)\n",
    "                model.Add(alfasMatrix[i,j] + alfasMatrix[j,i] == 1)\n",
    "        model.Add(cmax >= starts[i][k] + jobs[i].time[k])\n",
    "\n",
    "    model.Minimize(cmax)\n",
    "    status = solver.Solve(model)\n",
    "    pi = [(i, starts[i][0].GetVarValueMap()) for i in range(len(starts))]\n",
    "    # pi.sort(key=lambda x: x[1])\n",
    "    print(pi)\n",
    "    # cmax.GetVarValueMap()\n",
    "    print(solver.ObjectiveValue())\n",
    "\n",
    "\n",
    "jobs = load_from_file(\"insa/ta01\")\n",
    "cp_js(jobs)\n"
   ]
  }
 ],
 "metadata": {
  "kernelspec": {
   "display_name": "Python 3",
   "language": "python",
   "name": "python3"
  },
  "language_info": {
   "codemirror_mode": {
    "name": "ipython",
    "version": 3
   },
   "file_extension": ".py",
   "mimetype": "text/x-python",
   "name": "python",
   "nbconvert_exporter": "python",
   "pygments_lexer": "ipython3",
   "version": "3.7.3"
  }
 },
 "nbformat": 4,
 "nbformat_minor": 2
}
