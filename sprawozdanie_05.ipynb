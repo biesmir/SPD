{
 "cells": [
  {
   "cell_type": "markdown",
   "metadata": {},
   "source": [
    "# Sprawozdanie 5 Algorytm Carliera"
   ]
  },
  {
   "cell_type": "markdown",
   "metadata": {},
   "source": [
    "Sprawdzenie poprawności algorytmu dla instancji in50, in100 i in200"
   ]
  },
  {
   "cell_type": "code",
   "execution_count": 3,
   "metadata": {},
   "outputs": [
    {
     "name": "stdout",
     "output_type": "stream",
     "text": [
      "1492\n",
      "3070\n",
      "6398\n"
     ]
    }
   ],
   "source": [
    "from rpq import *\n",
    "import plotly.plotly as py\n",
    "import plotly.figure_factory as ff\n",
    "import plotly.graph_objs as go\n",
    "from plotly.offline import download_plotlyjs, init_notebook_mode, iplot\n",
    "from plotly.graph_objs import *\n",
    "init_notebook_mode()\n",
    "schdl1 = Schedule('./dane rpq/in50.txt')\n",
    "schdl2 = Schedule('./dane rpq/in100.txt')\n",
    "schdl3 = Schedule('./dane rpq/in200.txt')\n",
    "\n",
    "\n",
    "result = [carlier(schdl1)[1], carlier(schdl2)[1], carlier(schdl3)[1]]\n",
    "instancja = [50, 100, 200]\n",
    "cmax = [1513, 3076, 6416]\n",
    "trace = go.Table(\n",
    "    header=dict(values=['Instancja','Otrzymany wynik Cmax','Oczekiwany wynik Cmax']),\n",
    "    cells=dict(values=[instancja,\n",
    "        result,            \n",
    "        cmax\n",
    "    ]))\n",
    "    \n",
    "layout = Layout(\n",
    "    showlegend=False,\n",
    "    height=300,\n",
    "    width=700,\n",
    ")\n",
    "\n",
    "data = [trace] \n",
    "fig = dict( data=data, layout=layout )\n",
    "iplot(fig) \n"
   ]
  },
  {
   "cell_type": "code",
   "execution_count": null,
   "metadata": {},
   "outputs": [],
   "source": []
  }
 ],
 "metadata": {
  "kernelspec": {
   "display_name": "Python 3",
   "language": "python",
   "name": "python3"
  },
  "language_info": {
   "codemirror_mode": {
    "name": "ipython",
    "version": 3
   },
   "file_extension": ".py",
   "mimetype": "text/x-python",
   "name": "python",
   "nbconvert_exporter": "python",
   "pygments_lexer": "ipython3",
   "version": "3.7.3"
  }
 },
 "nbformat": 4,
 "nbformat_minor": 2
}
